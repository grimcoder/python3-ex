{
 "cells": [
  {
   "cell_type": "code",
   "execution_count": 3,
   "metadata": {},
   "outputs": [
    {
     "name": "stdout",
     "output_type": "stream",
     "text": [
      "{'make': 'tesla', 'year': 2018}\n",
      "{'make': 'tesla', 'year': '2019', 'model': 'model3'}\n"
     ]
    }
   ],
   "source": [
    "class Vehicle:\n",
    "    def __init__(self, make, year):\n",
    "        self.make = make\n",
    "        self.year = year\n",
    "\n",
    "    def getDetails(self):\n",
    "        return {\"make\": self.make, \"year\": self.year}\n",
    "\n",
    "tesla = Vehicle(\"tesla\", 2018)\n",
    "\n",
    "print(tesla.getDetails())\n",
    "\n",
    "class Car(Vehicle):\n",
    "    def __init__(self, make, year, model):\n",
    "        super().__init__(make, year)\n",
    "        self.model = model\n",
    "\n",
    "    def getDetails(self):\n",
    "        return {\"make\": self.make, \"year\": self.year, \"model\": self.model}\n",
    "    \n",
    "    tesla3 = Car(\"tesla\", \"2019\", \"model3\")\n",
    "    print(tesla3.getDetails())\n",
    "    \n"
   ]
  },
  {
   "cell_type": "code",
   "execution_count": null,
   "metadata": {},
   "outputs": [],
   "source": []
  }
 ],
 "metadata": {
  "kernelspec": {
   "display_name": "Python 3",
   "language": "python",
   "name": "python3"
  },
  "language_info": {
   "codemirror_mode": {
    "name": "ipython",
    "version": 3
   },
   "file_extension": ".py",
   "mimetype": "text/x-python",
   "name": "python",
   "nbconvert_exporter": "python",
   "pygments_lexer": "ipython3",
   "version": "3.9.6"
  },
  "orig_nbformat": 4
 },
 "nbformat": 4,
 "nbformat_minor": 2
}

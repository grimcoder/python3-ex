{
 "cells": [
  {
   "cell_type": "code",
   "execution_count": null,
   "metadata": {},
   "outputs": [],
   "source": [
    "def odds(lst):\n",
    "    result = filter(lambda x: x % 2 == 1, lst)\n",
    "    return list(result)\n"
   ]
  },
  {
   "cell_type": "code",
   "execution_count": 9,
   "metadata": {},
   "outputs": [
    {
     "name": "stdout",
     "output_type": "stream",
     "text": [
      "banana\n"
     ]
    }
   ],
   "source": [
    "def longestString(lst):\n",
    "    m = max(map(lambda x: len(x), lst))\n",
    "    return list(filter(lambda x: len(x) == m, lst))[0]\n",
    "\n",
    "print(longestString([\"apple\", \"banana\", \"cherry\"]))"
   ]
  },
  {
   "cell_type": "code",
   "execution_count": 16,
   "metadata": {},
   "outputs": [
    {
     "name": "stdout",
     "output_type": "stream",
     "text": [
      "{1: 'a', 2: 'b'}\n"
     ]
    }
   ],
   "source": [
    "def swap(dic):\n",
    "    k = list(dict.keys(dic))\n",
    "    result = {}\n",
    "    for i in k:\n",
    "        result[dic[i]] = i\n",
    "    return result\n",
    "\n",
    "print(swap({\"a\": 1, \"b\": 2}))\n"
   ]
  },
  {
   "cell_type": "code",
   "execution_count": 18,
   "metadata": {},
   "outputs": [
    {
     "name": "stdout",
     "output_type": "stream",
     "text": [
      "2.0\n"
     ]
    }
   ],
   "source": [
    "def calculate_area(base, heigth):\n",
    "    return base * heigth / 2\n",
    "print(calculate_area(2,2))"
   ]
  },
  {
   "cell_type": "code",
   "execution_count": 23,
   "metadata": {},
   "outputs": [],
   "source": [
    "import math\n",
    "\n",
    "def word_count(path):\n",
    "    fl = open(path, 'r')\n",
    "    content = fl.read()\n",
    "    num = len(content.split(' '))\n",
    "    fw = open('word_count.txt', 'w')\n",
    "    fw.write(str(num))\n",
    "    fl.close()\n",
    "\n",
    "\n",
    "word_count('day2.txt')\n"
   ]
  },
  {
   "cell_type": "code",
   "execution_count": 46,
   "metadata": {},
   "outputs": [
    {
     "ename": "TypeError",
     "evalue": "devide() missing 1 required positional argument: 'num2'",
     "output_type": "error",
     "traceback": [
      "\u001b[0;31m---------------------------------------------------------------------------\u001b[0m",
      "\u001b[0;31mTypeError\u001b[0m                                 Traceback (most recent call last)",
      "\u001b[1;32m/Users/taraskovtun/src/python/day2/day2_iterables.ipynb Cell 6\u001b[0m line \u001b[0;36m8\n\u001b[1;32m      <a href='vscode-notebook-cell:/Users/taraskovtun/src/python/day2/day2_iterables.ipynb#W5sZmlsZQ%3D%3D?line=3'>4</a>\u001b[0m     \u001b[39mexcept\u001b[39;00m \u001b[39mException\u001b[39;00m \u001b[39mas\u001b[39;00m e:\n\u001b[1;32m      <a href='vscode-notebook-cell:/Users/taraskovtun/src/python/day2/day2_iterables.ipynb#W5sZmlsZQ%3D%3D?line=4'>5</a>\u001b[0m         \u001b[39mreturn\u001b[39;00m \u001b[39mstr\u001b[39m(e)\n\u001b[0;32m----> <a href='vscode-notebook-cell:/Users/taraskovtun/src/python/day2/day2_iterables.ipynb#W5sZmlsZQ%3D%3D?line=7'>8</a>\u001b[0m devide(\u001b[39m20\u001b[39;49m)\n",
      "\u001b[0;31mTypeError\u001b[0m: devide() missing 1 required positional argument: 'num2'"
     ]
    }
   ],
   "source": [
    "def devide(num1, num2=1):\n",
    "    try:\n",
    "        return num1/num2\n",
    "    except Exception as e:\n",
    "        return str(e)\n",
    "\n",
    "\n",
    "devide(20, 3)"
   ]
  },
  {
   "cell_type": "code",
   "execution_count": 35,
   "metadata": {},
   "outputs": [
    {
     "data": {
      "text/plain": [
       "'26-09-2023'"
      ]
     },
     "execution_count": 35,
     "metadata": {},
     "output_type": "execute_result"
    }
   ],
   "source": [
    "from datetime import datetime;\n",
    "\n",
    "def format_date():\n",
    "    return datetime.now().strftime(\"%d-%m-%Y\")\n",
    "\n",
    "format_date()"
   ]
  },
  {
   "cell_type": "code",
   "execution_count": 44,
   "metadata": {},
   "outputs": [
    {
     "name": "stdout",
     "output_type": "stream",
     "text": [
      "['collections.md 3678', 'strings.md 2964', 'iterables.md 2025', 'excercises_iterables.md 2156', 'day2_iterables.ipynb 6949', 'word_count.txt 2', 'day2.ipynb 3366', 'excercises.md 892', 'day2.md 3104', 'packages.md 2226', 'test.txt 21', 'day2.txt 63']\n"
     ]
    }
   ],
   "source": [
    "import os\n",
    "def list_sizes():\n",
    "    return [f for f in os.listdir(\".\") if os.path.isfile(os.path.join(\".\", f))]\n",
    "\n",
    "print(list(map( lambda x: str(f\"{x} {os.path.getsize(x)}\"), list_sizes())))\n",
    "\n",
    "\n"
   ]
  }
 ],
 "metadata": {
  "kernelspec": {
   "display_name": "Python 3",
   "language": "python",
   "name": "python3"
  },
  "language_info": {
   "codemirror_mode": {
    "name": "ipython",
    "version": 3
   },
   "file_extension": ".py",
   "mimetype": "text/x-python",
   "name": "python",
   "nbconvert_exporter": "python",
   "pygments_lexer": "ipython3",
   "version": "3.9.6"
  },
  "orig_nbformat": 4
 },
 "nbformat": 4,
 "nbformat_minor": 2
}

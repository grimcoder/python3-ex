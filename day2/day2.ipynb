{
 "cells": [
  {
   "cell_type": "code",
   "execution_count": 8,
   "metadata": {},
   "outputs": [
    {
     "name": "stdout",
     "output_type": "stream",
     "text": [
      "[1, 3, 5]\n"
     ]
    }
   ],
   "source": [
    "# List Manipulation:\n",
    "\n",
    "# Given a list of integers, write a function that returns a new list containing only the odd numbers.\n",
    "# Example input: [1, 2, 3, 4, 5]\n",
    "# Example output: [1, 3, 5]\n",
    "\n",
    "def odds(lst):\n",
    "    result = filter(lambda x: x % 2 == 1, lst)\n",
    "    return list(result)\n",
    "\n",
    "# print(odds([1,2,3,4,5]))\n",
    "\n",
    "# print([1,2,3])"
   ]
  },
  {
   "cell_type": "code",
   "execution_count": 9,
   "metadata": {},
   "outputs": [
    {
     "name": "stdout",
     "output_type": "stream",
     "text": [
      "Hello Taras\n"
     ]
    }
   ],
   "source": [
    "def concat(str1, str2):\n",
    "    return str1 + str2\n",
    "\n",
    "# print (concat(\"Hello\", \" Taras\"))"
   ]
  },
  {
   "cell_type": "code",
   "execution_count": 10,
   "metadata": {},
   "outputs": [
    {
     "name": "stdout",
     "output_type": "stream",
     "text": [
      "6\n"
     ]
    }
   ],
   "source": [
    "import math;\n",
    "\n",
    "def factorial(num):\n",
    "    return math.factorial(num)\n",
    "\n",
    "# print (factorial(3))"
   ]
  },
  {
   "cell_type": "markdown",
   "metadata": {},
   "source": []
  },
  {
   "cell_type": "code",
   "execution_count": 19,
   "metadata": {},
   "outputs": [],
   "source": [
    "def toUpperCase(file_path):\n",
    "    try:\n",
    "        content = open(file_path, \"r\").read()\n",
    "        str = content.upper()\n",
    "        forWrite = open(file_path, \"w\")\n",
    "        forWrite.write(str)\n",
    "        \n",
    "    except Exception as e:\n",
    "        print(f\"Error: {e}\")\n",
    "\n",
    "\n",
    "toUpperCase(\"test.txt\")"
   ]
  },
  {
   "cell_type": "code",
   "execution_count": null,
   "metadata": {},
   "outputs": [],
   "source": [
    "def devide(int1, int2):\n",
    "    try:\n",
    "        return int1 / int2\n",
    "    except Exception as e:\n",
    "        print(f\"Error: {e}\")\n",
    "\n",
    "# print(devide(2,3))\n",
    "\n",
    "# print(devide(1,0))\n",
    "\n",
    "# print(devide(1,\"a\"))"
   ]
  },
  {
   "cell_type": "code",
   "execution_count": 34,
   "metadata": {},
   "outputs": [
    {
     "name": "stdout",
     "output_type": "stream",
     "text": [
      "268\n"
     ]
    }
   ],
   "source": [
    "from datetime import date\n",
    "\n",
    "def days():\n",
    "    from datetime import datetime\n",
    "    current_datetime = datetime.now()\n",
    "    modified = current_datetime.replace(month=1, day=1)\n",
    "    diff = current_datetime - modified\n",
    "    return diff.days\n",
    "\n",
    "print(days())\n",
    "\n"
   ]
  }
 ],
 "metadata": {
  "kernelspec": {
   "display_name": "Python 3",
   "language": "python",
   "name": "python3"
  },
  "language_info": {
   "codemirror_mode": {
    "name": "ipython",
    "version": 3
   },
   "file_extension": ".py",
   "mimetype": "text/x-python",
   "name": "python",
   "nbconvert_exporter": "python",
   "pygments_lexer": "ipython3",
   "version": "3.9.6"
  },
  "orig_nbformat": 4
 },
 "nbformat": 4,
 "nbformat_minor": 2
}
